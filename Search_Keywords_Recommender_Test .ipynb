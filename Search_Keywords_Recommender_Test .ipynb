{
  "cells": [
    {
      "attachments": {},
      "cell_type": "markdown",
      "metadata": {
        "id": "Lv9fZv8ZLlAn"
      },
      "source": [
        "# Keywords Search Recommender\n",
        "\n",
        "The dataset is available [here](https://github.com/ChiefAdit/Bangkit/blob/ML/search-keywords-cat.txt)."
      ]
    },
    {
      "attachments": {},
      "cell_type": "markdown",
      "metadata": {},
      "source": [
        "## Clean Data"
      ]
    },
    {
      "cell_type": "code",
      "execution_count": 2,
      "metadata": {
        "id": "BfsADBvy0HCL"
      },
      "outputs": [],
      "source": [
        "import tensorflow as tf\n",
        "import string\n",
        "import requests"
      ]
    },
    {
      "attachments": {},
      "cell_type": "markdown",
      "metadata": {
        "id": "BPYSR0CANOiB"
      },
      "source": [
        "Now let's lowercase the plain text and split it into a list of sentences. "
      ]
    },
    {
      "cell_type": "code",
      "execution_count": 3,
      "metadata": {
        "colab": {
          "base_uri": "https://localhost:8080/"
        },
        "id": "lOAVsbRcM4In",
        "outputId": "cc3a6dc9-3768-4d33-ca71-810c147ba491"
      },
      "outputs": [
        {
          "name": "stdout",
          "output_type": "stream",
          "text": [
            "gejala dan pengobatan penyakit ginjal pada kucing\n"
          ]
        }
      ],
      "source": [
        "# Load the dataset\n",
        "data = open('./search-keywords-cat.txt').read()\n",
        "\n",
        "# Lowercase and split the text\n",
        "corpus = data.lower().split(\"\\n\")\n",
        "\n",
        "# Preview the result\n",
        "print(corpus[0])"
      ]
    },
    {
      "attachments": {},
      "cell_type": "markdown",
      "metadata": {
        "id": "ADxHIM-jOVBb"
      },
      "source": [
        "The total number of rows of data is 1273."
      ]
    },
    {
      "cell_type": "code",
      "execution_count": 4,
      "metadata": {
        "colab": {
          "base_uri": "https://localhost:8080/"
        },
        "id": "0Ap_ejJDOQ0Z",
        "outputId": "9684c15c-c206-4d8d-8b08-f8768ac64020"
      },
      "outputs": [
        {
          "data": {
            "text/plain": [
              "1273"
            ]
          },
          "execution_count": 4,
          "metadata": {},
          "output_type": "execute_result"
        }
      ],
      "source": [
        "len(corpus)"
      ]
    },
    {
      "attachments": {},
      "cell_type": "markdown",
      "metadata": {
        "id": "l-TKfNPTe-3F"
      },
      "source": [
        "Now we have a list of rows in the data. And then `join` all the lines to create a long string consisting of the data in continuous format."
      ]
    },
    {
      "cell_type": "code",
      "execution_count": 5,
      "metadata": {
        "colab": {
          "base_uri": "https://localhost:8080/",
          "height": 122
        },
        "id": "8awDHrkufCCd",
        "outputId": "d9e847d6-f16d-43f6-ec0a-5fd66ec092a2"
      },
      "outputs": [
        {
          "data": {
            "text/plain": [
              "'gejala dan pengobatan penyakit ginjal pada kucing penyebab dan pengobatan diabetes kucing cara mengatasi masalah pernapasan pada kucing tanda-tanda dan pengobatan penyakit kulit pada kucing cara mengobati infeksi saluran kemih pada kucing penyebab dan pengobatan penyakit hati pada kucing cara merawat gigi kucing untuk mencegah penyakit gigi mengenal tanda-tanda dan pengobatan penyakit jantung pada kucing cara mengobati alergi pada kucing gejala dan pengobatan penyakit perut pada kucing cara mengatasi gangguan pencernaan pada kucing penyebab dan pengobatan penyakit mata pada kucing tanda-tanda dan pengobatan penyakit tulang dan sendi pada kucing mengatasi masalah kecemasan dan stres pada kucing penyebab dan pengobatan gangguan peredaran darah pada kucing cara mengobati masalah reproduksi pada kucing tanda-tanda dan pengobatan penyakit pernapasan kronis pada kucing mengatasi masalah kesehatan pada kucing yang lebih tua penyebab dan pengobatan gangguan sistem saraf pada kucing cara mengob'"
            ]
          },
          "execution_count": 5,
          "metadata": {},
          "output_type": "execute_result"
        }
      ],
      "source": [
        "corpus = \" \".join(corpus)\n",
        "corpus[:1000]"
      ]
    },
    {
      "cell_type": "code",
      "execution_count": 6,
      "metadata": {
        "colab": {
          "base_uri": "https://localhost:8080/"
        },
        "id": "OGVnKfbpf3IG",
        "outputId": "42568bbb-e4f3-453c-c0b7-08f37484a403"
      },
      "outputs": [
        {
          "name": "stdout",
          "output_type": "stream",
          "text": [
            "['gejala', 'dan', 'pengobatan', 'penyakit', 'ginjal']\n"
          ]
        }
      ],
      "source": [
        "def clean_text(doc):\n",
        "  tokens = doc.split()\n",
        "  table = str.maketrans('', '', string.punctuation)\n",
        "  tokens = [w.translate(table) for w in tokens]\n",
        "  tokens = [word for word in tokens if word.isalpha()]\n",
        "  tokens = [word.lower() for word in tokens]\n",
        "  return tokens\n",
        "\n",
        "tokens = clean_text(data)\n",
        "print(tokens[:5])"
      ]
    },
    {
      "attachments": {},
      "cell_type": "markdown",
      "metadata": {
        "id": "G0y-XJF9gBX-"
      },
      "source": [
        "The total word count is 13012 words."
      ]
    },
    {
      "cell_type": "code",
      "execution_count": 7,
      "metadata": {
        "colab": {
          "base_uri": "https://localhost:8080/"
        },
        "id": "eCf2bcJ2gCEn",
        "outputId": "b4a47168-f60e-420c-edc1-249c4f4b09af"
      },
      "outputs": [
        {
          "data": {
            "text/plain": [
              "13012"
            ]
          },
          "execution_count": 7,
          "metadata": {},
          "output_type": "execute_result"
        }
      ],
      "source": [
        "len(tokens)"
      ]
    },
    {
      "attachments": {},
      "cell_type": "markdown",
      "metadata": {
        "id": "eaQsQqxngMEu"
      },
      "source": [
        "There are 1246 total of unique words"
      ]
    },
    {
      "cell_type": "code",
      "execution_count": 8,
      "metadata": {
        "colab": {
          "base_uri": "https://localhost:8080/"
        },
        "id": "kPT8FwwrgIEc",
        "outputId": "4eeef11e-a022-478b-9b44-a9d3d5f5dd58"
      },
      "outputs": [
        {
          "data": {
            "text/plain": [
              "1246"
            ]
          },
          "execution_count": 8,
          "metadata": {},
          "output_type": "execute_result"
        }
      ],
      "source": [
        "len(set(tokens))"
      ]
    },
    {
      "attachments": {},
      "cell_type": "markdown",
      "metadata": {
        "id": "9dqWPgRKgRCE"
      },
      "source": [
        "Now we are predict the 6th word using a set of max 5 words. So split the data into blocks of 6 words each and finally separate the last word from each row. Limit the dataset up to 200,000 words. "
      ]
    },
    {
      "cell_type": "code",
      "execution_count": 9,
      "metadata": {
        "colab": {
          "base_uri": "https://localhost:8080/"
        },
        "id": "HIftNTSigUH2",
        "outputId": "e01495da-5a63-4b71-ec92-6ab2fa16e711"
      },
      "outputs": [
        {
          "name": "stdout",
          "output_type": "stream",
          "text": [
            "13006\n"
          ]
        }
      ],
      "source": [
        "length = 5 + 1\n",
        "lines = []\n",
        "\n",
        "for i in range(length, len(tokens)):\n",
        "  seq = tokens[i-length:i]\n",
        "  line = ' '.join(seq)\n",
        "  lines.append(line)\n",
        "  if i > 200000:\n",
        "    break\n",
        "\n",
        "print(len(lines))"
      ]
    },
    {
      "attachments": {},
      "cell_type": "markdown",
      "metadata": {
        "id": "eA0zP1rCgnWv"
      },
      "source": [
        "Display the first line of 6 words."
      ]
    },
    {
      "cell_type": "code",
      "execution_count": 10,
      "metadata": {
        "colab": {
          "base_uri": "https://localhost:8080/",
          "height": 36
        },
        "id": "SepmADPEgaa8",
        "outputId": "a1e23a90-16aa-4fab-f1d1-ecea382a370f"
      },
      "outputs": [
        {
          "data": {
            "text/plain": [
              "'gejala dan pengobatan penyakit ginjal pada'"
            ]
          },
          "execution_count": 10,
          "metadata": {},
          "output_type": "execute_result"
        }
      ],
      "source": [
        "lines[0]"
      ]
    },
    {
      "attachments": {},
      "cell_type": "markdown",
      "metadata": {
        "id": "lB-SERGJgtQU"
      },
      "source": [
        "The 6th word in this line is the output word used for prediction."
      ]
    },
    {
      "cell_type": "code",
      "execution_count": 11,
      "metadata": {
        "colab": {
          "base_uri": "https://localhost:8080/",
          "height": 36
        },
        "id": "vkqjdy-agrCt",
        "outputId": "5c30c2e1-84ca-410e-da8c-f27b6c27aed4"
      },
      "outputs": [
        {
          "data": {
            "text/plain": [
              "'kucing'"
            ]
          },
          "execution_count": 11,
          "metadata": {},
          "output_type": "execute_result"
        }
      ],
      "source": [
        "tokens[6]"
      ]
    },
    {
      "attachments": {},
      "cell_type": "markdown",
      "metadata": {
        "id": "YveD4Rv5g1j1"
      },
      "source": [
        "This is the second line consisting of 6 words. We skipped a word. The 6th word in this line is the output word used for prediction."
      ]
    },
    {
      "cell_type": "code",
      "execution_count": 12,
      "metadata": {
        "colab": {
          "base_uri": "https://localhost:8080/",
          "height": 36
        },
        "id": "ZXo55ewdgzhD",
        "outputId": "9735ed05-3a10-4c8e-e4d9-afc1f78a587d"
      },
      "outputs": [
        {
          "data": {
            "text/plain": [
              "'dan pengobatan penyakit ginjal pada kucing'"
            ]
          },
          "execution_count": 12,
          "metadata": {},
          "output_type": "execute_result"
        }
      ],
      "source": [
        "lines[1]"
      ]
    },
    {
      "attachments": {},
      "cell_type": "markdown",
      "metadata": {
        "id": "-JyrF0E3g7Nl"
      },
      "source": [
        "## Build LSTM Model"
      ]
    },
    {
      "cell_type": "code",
      "execution_count": 13,
      "metadata": {
        "id": "u0buXVoBhDG-"
      },
      "outputs": [],
      "source": [
        "import numpy as np\n",
        "from tensorflow.keras.preprocessing.text import Tokenizer\n",
        "from tensorflow.keras.utils import to_categorical\n",
        "from tensorflow.keras.models import Sequential\n",
        "from tensorflow.keras.layers import Dense, LSTM, Embedding\n",
        "from tensorflow.keras.preprocessing.sequence import pad_sequences"
      ]
    },
    {
      "cell_type": "code",
      "execution_count": 14,
      "metadata": {
        "id": "slblSlY2hGg7"
      },
      "outputs": [],
      "source": [
        "tokenizer = Tokenizer()\n",
        "tokenizer.fit_on_texts(lines)\n",
        "sequences = tokenizer.texts_to_sequences(lines)"
      ]
    },
    {
      "cell_type": "code",
      "execution_count": 15,
      "metadata": {
        "colab": {
          "base_uri": "https://localhost:8080/"
        },
        "id": "2WxdhU3OhNJ6",
        "outputId": "ddb11344-b454-423b-be47-f50e67e6c822"
      },
      "outputs": [
        {
          "data": {
            "text/plain": [
              "array([163,   3,  54,  27,  86])"
            ]
          },
          "execution_count": 15,
          "metadata": {},
          "output_type": "execute_result"
        }
      ],
      "source": [
        "sequences = np.array(sequences)\n",
        "X, y = sequences[:, :-1], sequences[:,-1]\n",
        "X[0]"
      ]
    },
    {
      "cell_type": "code",
      "execution_count": 16,
      "metadata": {
        "colab": {
          "base_uri": "https://localhost:8080/"
        },
        "id": "tiKgvjhNhgl0",
        "outputId": "12e3acd5-aa5f-450c-d24a-89f9545866fe"
      },
      "outputs": [
        {
          "name": "stdout",
          "output_type": "stream",
          "text": [
            "1246\n"
          ]
        }
      ],
      "source": [
        "vocab_size = len(tokenizer.word_index) + 1\n",
        "print(vocab_size)"
      ]
    },
    {
      "cell_type": "code",
      "execution_count": 17,
      "metadata": {
        "id": "66_O7YPTh650"
      },
      "outputs": [],
      "source": [
        "y = to_categorical(y, num_classes=vocab_size)"
      ]
    },
    {
      "cell_type": "code",
      "execution_count": 18,
      "metadata": {
        "colab": {
          "base_uri": "https://localhost:8080/"
        },
        "id": "uQ370cvviA97",
        "outputId": "4670323d-0848-4b78-eca5-35a6ee06865f"
      },
      "outputs": [
        {
          "data": {
            "text/plain": [
              "5"
            ]
          },
          "execution_count": 18,
          "metadata": {},
          "output_type": "execute_result"
        }
      ],
      "source": [
        "seq_length = X.shape[1]\n",
        "seq_length"
      ]
    },
    {
      "attachments": {},
      "cell_type": "markdown",
      "metadata": {
        "id": "A__Z9iaAiDOq"
      },
      "source": [
        "## LSTM Model"
      ]
    },
    {
      "cell_type": "code",
      "execution_count": 19,
      "metadata": {
        "id": "KBLmbEihizu0"
      },
      "outputs": [],
      "source": [
        "model = Sequential()\n",
        "model.add(Embedding(vocab_size, 32, input_length=seq_length))\n",
        "model.add(LSTM(64, return_sequences=True))\n",
        "model.add(LSTM(64))\n",
        "model.add(Dense(64, activation='relu'))\n",
        "model.add(Dense(vocab_size, activation='softmax'))"
      ]
    },
    {
      "cell_type": "code",
      "execution_count": 20,
      "metadata": {
        "colab": {
          "base_uri": "https://localhost:8080/"
        },
        "id": "gj-qngG3i3H8",
        "outputId": "ba733a90-ca7b-4608-d826-f5273bd4c79b"
      },
      "outputs": [
        {
          "name": "stdout",
          "output_type": "stream",
          "text": [
            "Model: \"sequential\"\n",
            "_________________________________________________________________\n",
            " Layer (type)                Output Shape              Param #   \n",
            "=================================================================\n",
            " embedding (Embedding)       (None, 5, 32)             39872     \n",
            "                                                                 \n",
            " lstm (LSTM)                 (None, 5, 64)             24832     \n",
            "                                                                 \n",
            " lstm_1 (LSTM)               (None, 64)                33024     \n",
            "                                                                 \n",
            " dense (Dense)               (None, 64)                4160      \n",
            "                                                                 \n",
            " dense_1 (Dense)             (None, 1246)              80990     \n",
            "                                                                 \n",
            "=================================================================\n",
            "Total params: 182,878\n",
            "Trainable params: 182,878\n",
            "Non-trainable params: 0\n",
            "_________________________________________________________________\n"
          ]
        }
      ],
      "source": [
        "model.summary()"
      ]
    },
    {
      "cell_type": "code",
      "execution_count": 21,
      "metadata": {
        "id": "oIvX-ZAwjEZj"
      },
      "outputs": [],
      "source": [
        "learning_rate = 0.01\n",
        "model.compile(\n",
        "    loss = 'categorical_crossentropy',\n",
        "    # optimizer = 'adam',\n",
        "    optimizer = tf.keras.optimizers.Adam(learning_rate=learning_rate),\n",
        "    metrics = ['accuracy']\n",
        "    )"
      ]
    },
    {
      "cell_type": "code",
      "execution_count": 22,
      "metadata": {
        "colab": {
          "base_uri": "https://localhost:8080/"
        },
        "id": "J3KeOR7HjH96",
        "outputId": "bc04a1e8-99c7-4717-cb17-684b41660ea8"
      },
      "outputs": [
        {
          "name": "stdout",
          "output_type": "stream",
          "text": [
            "Epoch 1/100\n",
            "102/102 - 6s - loss: 5.5559 - accuracy: 0.0876 - 6s/epoch - 63ms/step\n",
            "Epoch 2/100\n",
            "102/102 - 1s - loss: 4.9001 - accuracy: 0.1213 - 1s/epoch - 13ms/step\n",
            "Epoch 3/100\n",
            "102/102 - 2s - loss: 4.1605 - accuracy: 0.2223 - 2s/epoch - 16ms/step\n",
            "Epoch 4/100\n",
            "102/102 - 1s - loss: 3.4775 - accuracy: 0.3300 - 1s/epoch - 13ms/step\n",
            "Epoch 5/100\n",
            "102/102 - 1s - loss: 2.9969 - accuracy: 0.3989 - 1s/epoch - 13ms/step\n",
            "Epoch 6/100\n",
            "102/102 - 1s - loss: 2.6231 - accuracy: 0.4519 - 1s/epoch - 13ms/step\n",
            "Epoch 7/100\n",
            "102/102 - 2s - loss: 2.3298 - accuracy: 0.4905 - 2s/epoch - 15ms/step\n",
            "Epoch 8/100\n",
            "102/102 - 2s - loss: 2.1022 - accuracy: 0.5196 - 2s/epoch - 15ms/step\n",
            "Epoch 9/100\n",
            "102/102 - 2s - loss: 1.9201 - accuracy: 0.5438 - 2s/epoch - 15ms/step\n",
            "Epoch 10/100\n",
            "102/102 - 1s - loss: 1.7657 - accuracy: 0.5639 - 1s/epoch - 14ms/step\n",
            "Epoch 11/100\n",
            "102/102 - 2s - loss: 1.6188 - accuracy: 0.5830 - 2s/epoch - 18ms/step\n",
            "Epoch 12/100\n",
            "102/102 - 2s - loss: 1.4832 - accuracy: 0.6141 - 2s/epoch - 20ms/step\n",
            "Epoch 13/100\n",
            "102/102 - 2s - loss: 1.3581 - accuracy: 0.6295 - 2s/epoch - 23ms/step\n",
            "Epoch 14/100\n",
            "102/102 - 2s - loss: 1.2737 - accuracy: 0.6488 - 2s/epoch - 23ms/step\n",
            "Epoch 15/100\n",
            "102/102 - 2s - loss: 1.1707 - accuracy: 0.6721 - 2s/epoch - 19ms/step\n",
            "Epoch 16/100\n",
            "102/102 - 2s - loss: 1.0917 - accuracy: 0.6898 - 2s/epoch - 17ms/step\n",
            "Epoch 17/100\n",
            "102/102 - 2s - loss: 1.0240 - accuracy: 0.7068 - 2s/epoch - 19ms/step\n",
            "Epoch 18/100\n",
            "102/102 - 2s - loss: 0.9549 - accuracy: 0.7185 - 2s/epoch - 17ms/step\n",
            "Epoch 19/100\n",
            "102/102 - 2s - loss: 0.8992 - accuracy: 0.7376 - 2s/epoch - 17ms/step\n",
            "Epoch 20/100\n",
            "102/102 - 2s - loss: 0.8785 - accuracy: 0.7377 - 2s/epoch - 17ms/step\n",
            "Epoch 21/100\n",
            "102/102 - 2s - loss: 0.8106 - accuracy: 0.7557 - 2s/epoch - 15ms/step\n",
            "Epoch 22/100\n",
            "102/102 - 2s - loss: 0.7631 - accuracy: 0.7724 - 2s/epoch - 18ms/step\n",
            "Epoch 23/100\n",
            "102/102 - 2s - loss: 0.7248 - accuracy: 0.7809 - 2s/epoch - 22ms/step\n",
            "Epoch 24/100\n",
            "102/102 - 2s - loss: 0.7011 - accuracy: 0.7876 - 2s/epoch - 22ms/step\n",
            "Epoch 25/100\n",
            "102/102 - 2s - loss: 0.6540 - accuracy: 0.7962 - 2s/epoch - 21ms/step\n",
            "Epoch 26/100\n",
            "102/102 - 2s - loss: 0.6403 - accuracy: 0.8032 - 2s/epoch - 17ms/step\n",
            "Epoch 27/100\n",
            "102/102 - 1s - loss: 0.6262 - accuracy: 0.8069 - 1s/epoch - 14ms/step\n",
            "Epoch 28/100\n",
            "102/102 - 1s - loss: 0.5954 - accuracy: 0.8127 - 1s/epoch - 13ms/step\n",
            "Epoch 29/100\n",
            "102/102 - 1s - loss: 0.5746 - accuracy: 0.8245 - 1s/epoch - 13ms/step\n",
            "Epoch 30/100\n",
            "102/102 - 1s - loss: 0.5682 - accuracy: 0.8254 - 1s/epoch - 15ms/step\n",
            "Epoch 31/100\n",
            "102/102 - 1s - loss: 0.5725 - accuracy: 0.8201 - 1s/epoch - 14ms/step\n",
            "Epoch 32/100\n",
            "102/102 - 1s - loss: 0.5719 - accuracy: 0.8195 - 1s/epoch - 14ms/step\n",
            "Epoch 33/100\n",
            "102/102 - 2s - loss: 0.6092 - accuracy: 0.8092 - 2s/epoch - 18ms/step\n",
            "Epoch 34/100\n",
            "102/102 - 2s - loss: 0.6149 - accuracy: 0.8087 - 2s/epoch - 21ms/step\n",
            "Epoch 35/100\n",
            "102/102 - 2s - loss: 0.5948 - accuracy: 0.8125 - 2s/epoch - 19ms/step\n",
            "Epoch 36/100\n",
            "102/102 - 2s - loss: 0.5785 - accuracy: 0.8174 - 2s/epoch - 22ms/step\n",
            "Epoch 37/100\n",
            "102/102 - 2s - loss: 0.5517 - accuracy: 0.8209 - 2s/epoch - 19ms/step\n",
            "Epoch 38/100\n",
            "102/102 - 1s - loss: 0.5086 - accuracy: 0.8388 - 1s/epoch - 15ms/step\n",
            "Epoch 39/100\n",
            "102/102 - 1s - loss: 0.4942 - accuracy: 0.8397 - 1s/epoch - 14ms/step\n",
            "Epoch 40/100\n",
            "102/102 - 1s - loss: 0.5035 - accuracy: 0.8375 - 1s/epoch - 14ms/step\n",
            "Epoch 41/100\n",
            "102/102 - 2s - loss: 0.4877 - accuracy: 0.8441 - 2s/epoch - 15ms/step\n",
            "Epoch 42/100\n",
            "102/102 - 2s - loss: 0.4830 - accuracy: 0.8449 - 2s/epoch - 16ms/step\n",
            "Epoch 43/100\n",
            "102/102 - 2s - loss: 0.5217 - accuracy: 0.8317 - 2s/epoch - 15ms/step\n",
            "Epoch 44/100\n",
            "102/102 - 2s - loss: 0.5379 - accuracy: 0.8267 - 2s/epoch - 16ms/step\n",
            "Epoch 45/100\n",
            "102/102 - 2s - loss: 0.5435 - accuracy: 0.8258 - 2s/epoch - 15ms/step\n",
            "Epoch 46/100\n",
            "102/102 - 2s - loss: 0.5066 - accuracy: 0.8353 - 2s/epoch - 17ms/step\n",
            "Epoch 47/100\n",
            "102/102 - 2s - loss: 0.5127 - accuracy: 0.8355 - 2s/epoch - 20ms/step\n",
            "Epoch 48/100\n",
            "102/102 - 2s - loss: 0.5082 - accuracy: 0.8378 - 2s/epoch - 19ms/step\n",
            "Epoch 49/100\n",
            "102/102 - 2s - loss: 0.4840 - accuracy: 0.8412 - 2s/epoch - 21ms/step\n",
            "Epoch 50/100\n",
            "102/102 - 2s - loss: 0.4754 - accuracy: 0.8442 - 2s/epoch - 19ms/step\n",
            "Epoch 51/100\n",
            "102/102 - 2s - loss: 0.4851 - accuracy: 0.8411 - 2s/epoch - 21ms/step\n",
            "Epoch 52/100\n",
            "102/102 - 2s - loss: 0.4581 - accuracy: 0.8450 - 2s/epoch - 19ms/step\n",
            "Epoch 53/100\n",
            "102/102 - 2s - loss: 0.4775 - accuracy: 0.8397 - 2s/epoch - 15ms/step\n",
            "Epoch 54/100\n",
            "102/102 - 1s - loss: 0.4902 - accuracy: 0.8349 - 1s/epoch - 14ms/step\n",
            "Epoch 55/100\n",
            "102/102 - 1s - loss: 0.4971 - accuracy: 0.8382 - 1s/epoch - 14ms/step\n",
            "Epoch 56/100\n",
            "102/102 - 1s - loss: 0.5055 - accuracy: 0.8387 - 1s/epoch - 14ms/step\n",
            "Epoch 57/100\n",
            "102/102 - 1s - loss: 0.5161 - accuracy: 0.8302 - 1s/epoch - 14ms/step\n",
            "Epoch 58/100\n",
            "102/102 - 2s - loss: 0.5230 - accuracy: 0.8286 - 2s/epoch - 15ms/step\n",
            "Epoch 59/100\n",
            "102/102 - 1s - loss: 0.5368 - accuracy: 0.8266 - 1s/epoch - 14ms/step\n",
            "Epoch 60/100\n",
            "102/102 - 1s - loss: 0.5172 - accuracy: 0.8320 - 1s/epoch - 14ms/step\n",
            "Epoch 61/100\n",
            "102/102 - 1s - loss: 0.4772 - accuracy: 0.8414 - 1s/epoch - 14ms/step\n",
            "Epoch 62/100\n",
            "102/102 - 1s - loss: 0.4460 - accuracy: 0.8498 - 1s/epoch - 13ms/step\n",
            "Epoch 63/100\n",
            "102/102 - 1s - loss: 0.4430 - accuracy: 0.8515 - 1s/epoch - 14ms/step\n",
            "Epoch 64/100\n",
            "102/102 - 1s - loss: 0.4406 - accuracy: 0.8494 - 1s/epoch - 15ms/step\n",
            "Epoch 65/100\n",
            "102/102 - 1s - loss: 0.4190 - accuracy: 0.8572 - 1s/epoch - 13ms/step\n",
            "Epoch 66/100\n",
            "102/102 - 2s - loss: 0.4182 - accuracy: 0.8554 - 2s/epoch - 15ms/step\n",
            "Epoch 67/100\n",
            "102/102 - 2s - loss: 0.4108 - accuracy: 0.8590 - 2s/epoch - 19ms/step\n",
            "Epoch 68/100\n",
            "102/102 - 2s - loss: 0.4008 - accuracy: 0.8624 - 2s/epoch - 17ms/step\n",
            "Epoch 69/100\n",
            "102/102 - 2s - loss: 0.4050 - accuracy: 0.8604 - 2s/epoch - 17ms/step\n",
            "Epoch 70/100\n",
            "102/102 - 2s - loss: 0.4464 - accuracy: 0.8502 - 2s/epoch - 20ms/step\n",
            "Epoch 71/100\n",
            "102/102 - 2s - loss: 0.4756 - accuracy: 0.8392 - 2s/epoch - 15ms/step\n",
            "Epoch 72/100\n",
            "102/102 - 1s - loss: 0.5199 - accuracy: 0.8320 - 1s/epoch - 15ms/step\n",
            "Epoch 73/100\n",
            "102/102 - 1s - loss: 0.5977 - accuracy: 0.8103 - 1s/epoch - 14ms/step\n",
            "Epoch 74/100\n",
            "102/102 - 2s - loss: 0.6000 - accuracy: 0.8089 - 2s/epoch - 15ms/step\n",
            "Epoch 75/100\n",
            "102/102 - 2s - loss: 0.6035 - accuracy: 0.8073 - 2s/epoch - 15ms/step\n",
            "Epoch 76/100\n",
            "102/102 - 1s - loss: 0.5602 - accuracy: 0.8183 - 1s/epoch - 14ms/step\n",
            "Epoch 77/100\n",
            "102/102 - 2s - loss: 0.5328 - accuracy: 0.8262 - 2s/epoch - 15ms/step\n",
            "Epoch 78/100\n",
            "102/102 - 1s - loss: 0.5093 - accuracy: 0.8314 - 1s/epoch - 13ms/step\n",
            "Epoch 79/100\n",
            "102/102 - 1s - loss: 0.4699 - accuracy: 0.8431 - 1s/epoch - 14ms/step\n",
            "Epoch 80/100\n",
            "102/102 - 2s - loss: 0.4250 - accuracy: 0.8530 - 2s/epoch - 15ms/step\n",
            "Epoch 81/100\n",
            "102/102 - 2s - loss: 0.3926 - accuracy: 0.8634 - 2s/epoch - 17ms/step\n",
            "Epoch 82/100\n",
            "102/102 - 2s - loss: 0.3853 - accuracy: 0.8647 - 2s/epoch - 17ms/step\n",
            "Epoch 83/100\n",
            "102/102 - 2s - loss: 0.3659 - accuracy: 0.8682 - 2s/epoch - 16ms/step\n",
            "Epoch 84/100\n",
            "102/102 - 2s - loss: 0.3469 - accuracy: 0.8761 - 2s/epoch - 16ms/step\n",
            "Epoch 85/100\n",
            "102/102 - 2s - loss: 0.3333 - accuracy: 0.8816 - 2s/epoch - 17ms/step\n",
            "Epoch 86/100\n",
            "102/102 - 2s - loss: 0.3338 - accuracy: 0.8793 - 2s/epoch - 18ms/step\n",
            "Epoch 87/100\n",
            "102/102 - 2s - loss: 0.3299 - accuracy: 0.8789 - 2s/epoch - 17ms/step\n",
            "Epoch 88/100\n",
            "102/102 - 2s - loss: 0.3309 - accuracy: 0.8796 - 2s/epoch - 18ms/step\n",
            "Epoch 89/100\n",
            "102/102 - 2s - loss: 0.3525 - accuracy: 0.8729 - 2s/epoch - 17ms/step\n",
            "Epoch 90/100\n",
            "102/102 - 2s - loss: 0.3852 - accuracy: 0.8641 - 2s/epoch - 16ms/step\n",
            "Epoch 91/100\n",
            "102/102 - 2s - loss: 0.4322 - accuracy: 0.8509 - 2s/epoch - 17ms/step\n",
            "Epoch 92/100\n",
            "102/102 - 2s - loss: 0.6146 - accuracy: 0.8050 - 2s/epoch - 23ms/step\n",
            "Epoch 93/100\n",
            "102/102 - 2s - loss: 0.8475 - accuracy: 0.7552 - 2s/epoch - 24ms/step\n",
            "Epoch 94/100\n",
            "102/102 - 4s - loss: 0.8891 - accuracy: 0.7443 - 4s/epoch - 43ms/step\n",
            "Epoch 95/100\n",
            "102/102 - 3s - loss: 0.7551 - accuracy: 0.7679 - 3s/epoch - 27ms/step\n",
            "Epoch 96/100\n",
            "102/102 - 2s - loss: 0.6469 - accuracy: 0.7959 - 2s/epoch - 22ms/step\n",
            "Epoch 97/100\n",
            "102/102 - 2s - loss: 0.5349 - accuracy: 0.8228 - 2s/epoch - 21ms/step\n",
            "Epoch 98/100\n",
            "102/102 - 2s - loss: 0.4718 - accuracy: 0.8419 - 2s/epoch - 21ms/step\n",
            "Epoch 99/100\n",
            "102/102 - 2s - loss: 0.4185 - accuracy: 0.8568 - 2s/epoch - 24ms/step\n",
            "Epoch 100/100\n",
            "102/102 - 2s - loss: 0.3931 - accuracy: 0.8647 - 2s/epoch - 19ms/step\n"
          ]
        }
      ],
      "source": [
        "history = model.fit(X, y, batch_size = 128, epochs = 100, verbose=2)"
      ]
    },
    {
      "cell_type": "code",
      "execution_count": 23,
      "metadata": {
        "colab": {
          "base_uri": "https://localhost:8080/",
          "height": 410
        },
        "id": "okAace4RsLVo",
        "outputId": "deb894ec-6a49-4147-b7c1-fac33977869f"
      },
      "outputs": [
        {
          "data": {
            "image/png": "[encoded data removed]",
            "text/plain": [
              "<Figure size 1200x400 with 2 Axes>"
            ]
          },
          "metadata": {},
          "output_type": "display_data"
        }
      ],
      "source": [
        "import matplotlib.pyplot as plt\n",
        "\n",
        "# # Plot utility\n",
        "# def plot_graphs(history, string):\n",
        "#   plt.plot(history.history[string])\n",
        "#   plt.xlabel(\"Epochs\")\n",
        "#   plt.ylabel(string)\n",
        "#   plt.show()\n",
        "\n",
        "# # Visualize the accuracy\n",
        "# plot_graphs(history, \"accuracy\")\n",
        "# plot_graphs(history, \"val_acc\")\n",
        "# plot_graphs(history, \"loss\")\n",
        "# plot_graphs(history, \"val_loss\")\n",
        "# Plot the training progress\n",
        "plt.figure(figsize=(12, 4))\n",
        "\n",
        "# Plot accuracy\n",
        "plt.subplot(1, 2, 1)\n",
        "plt.plot(history.history['accuracy'], label='Train')\n",
        "# plt.plot(history.history['val_accuracy'], label='Validation')\n",
        "plt.title('Model Accuracy')\n",
        "plt.xlabel('Epoch')\n",
        "plt.ylabel('Accuracy')\n",
        "plt.legend()\n",
        "\n",
        "# Plot loss\n",
        "plt.subplot(1, 2, 2)\n",
        "plt.plot(history.history['loss'], label='Train')\n",
        "# plt.plot(history.history['val_loss'], label='Validation')\n",
        "plt.title('Model Loss')\n",
        "plt.xlabel('Epoch')\n",
        "plt.ylabel('Loss')\n",
        "plt.legend()\n",
        "\n",
        "# plt.tight_layout()\n",
        "plt.show()"
      ]
    },
    {
      "cell_type": "code",
      "execution_count": 24,
      "metadata": {
        "colab": {
          "base_uri": "https://localhost:8080/",
          "height": 35
        },
        "id": "VLxknpcKjUJT",
        "outputId": "46b6e4a1-675f-4384-eae3-680d0025f5a0"
      },
      "outputs": [
        {
          "data": {
            "text/plain": [
              "'bagaimana cara'"
            ]
          },
          "execution_count": 24,
          "metadata": {},
          "output_type": "execute_result"
        }
      ],
      "source": [
        "seed_text=\"bagaimana cara\"\n",
        "seed_text"
      ]
    },
    {
      "cell_type": "code",
      "execution_count": 25,
      "metadata": {
        "id": "K2ZNql0XjptR"
      },
      "outputs": [],
      "source": [
        "def generate_text_seq(model, tokenizer, text_seq_length, seed_text, n_words):\n",
        "  text = []\n",
        "\n",
        "  for _ in range(n_words):\n",
        "    encoded = tokenizer.texts_to_sequences([seed_text])[0]\n",
        "    encoded = pad_sequences([encoded], maxlen = text_seq_length, truncating='pre')\n",
        "\n",
        "    # y_predict = model.predict_classes(encoded)\n",
        "    y_predict = np.argmax(model.predict(encoded), axis=1)\n",
        "\n",
        "    predicted_word = ''\n",
        "    for word, index in tokenizer.word_index.items():\n",
        "      if index == y_predict:\n",
        "        predicted_word = word\n",
        "        break\n",
        "    seed_text = seed_text + ' ' + predicted_word\n",
        "    text.append(predicted_word)\n",
        "  return ' '.join(text)"
      ]
    },
    {
      "attachments": {},
      "cell_type": "markdown",
      "metadata": {
        "id": "1y29p9btkFpL"
      },
      "source": [
        "We can see that the model predicted next 5 words for the `seed_text`."
      ]
    },
    {
      "cell_type": "code",
      "execution_count": 26,
      "metadata": {
        "colab": {
          "base_uri": "https://localhost:8080/",
          "height": 122
        },
        "id": "CVyhj6fLjtoW",
        "outputId": "fcae9ed5-0096-4bbf-8209-34df3dc8b3f1"
      },
      "outputs": [
        {
          "name": "stdout",
          "output_type": "stream",
          "text": [
            "1/1 [==============================] - 2s 2s/step\n",
            "1/1 [==============================] - 0s 73ms/step\n",
            "1/1 [==============================] - 0s 53ms/step\n",
            "1/1 [==============================] - 0s 41ms/step\n",
            "1/1 [==============================] - 0s 38ms/step\n"
          ]
        },
        {
          "data": {
            "text/plain": [
              "'suka menjilati atau menggigit bendabenda'"
            ]
          },
          "execution_count": 26,
          "metadata": {},
          "output_type": "execute_result"
        }
      ],
      "source": [
        "generate_text_seq(model, tokenizer, seq_length, \"mengapa kucing\", 5)"
      ]
    },
    {
      "cell_type": "code",
      "execution_count": 27,
      "metadata": {
        "id": "Nw5pXhpBz4oq"
      },
      "outputs": [],
      "source": [
        "model.save(\"text_generation_model.h5\")"
      ]
    }
  ],
  "metadata": {
    "colab": {
      "provenance": []
    },
    "kernelspec": {
      "display_name": "Python 3",
      "name": "python3"
    },
    "language_info": {
      "codemirror_mode": {
        "name": "ipython",
        "version": 3
      },
      "file_extension": ".py",
      "mimetype": "text/x-python",
      "name": "python",
      "nbconvert_exporter": "python",
      "pygments_lexer": "ipython3",
      "version": "3.11.3"
    }
  },
  "nbformat": 4,
  "nbformat_minor": 0
}
